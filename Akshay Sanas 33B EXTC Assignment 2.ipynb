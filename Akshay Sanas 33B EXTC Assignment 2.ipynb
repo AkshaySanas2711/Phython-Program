{
 "cells": [
  {
   "cell_type": "code",
   "execution_count": 1,
   "id": "7f326494",
   "metadata": {},
   "outputs": [
    {
     "data": {
      "text/plain": [
       "2"
      ]
     },
     "execution_count": 1,
     "metadata": {},
     "output_type": "execute_result"
    }
   ],
   "source": [
    "#1. Create a function that takes three integer arguments (a, b, c) and returns the amount of integers which are of equal value.integers which are of equal value.\n",
    "def equal(a,b,c):\n",
    "    try:\n",
    "        if (a==b) and (a==c):\n",
    "            return 3\n",
    "        elif (a==b) or (a==c)or(b==c):\n",
    "            return 2\n",
    "        else :\n",
    "            return 0\n",
    "    except Exception as e:\n",
    "        print(e)\n",
    "equal(3, 4, 3)"
   ]
  },
  {
   "cell_type": "code",
   "execution_count": 3,
   "id": "1623d6a8",
   "metadata": {},
   "outputs": [
    {
     "data": {
      "text/plain": [
       "[('B', 4), ('C', 3), ('D', 3)]"
      ]
     },
     "execution_count": 3,
     "metadata": {},
     "output_type": "execute_result"
    }
   ],
   "source": [
    "#2 Write a function that converts a dictionary into a list of keys-values tuples\n",
    "def dict_to_list(d):\n",
    "    try:\n",
    "        l = [(i, d[i]) for i in d]\n",
    "        return sorted(l)\n",
    "    except Exception as e:\n",
    "        print(e)\n",
    "dict_to_list({\n",
    "'D': 3,\n",
    "'B': 4,\n",
    "'C': 3\n",
    "})"
   ]
  },
  {
   "cell_type": "code",
   "execution_count": 6,
   "id": "cb69f97c",
   "metadata": {},
   "outputs": [
    {
     "data": {
      "text/plain": [
       "{'a': 'A', 's': 'S'}"
      ]
     },
     "execution_count": 6,
     "metadata": {},
     "output_type": "execute_result"
    }
   ],
   "source": [
    "#3 Write a function that creates a dictionary with each (key, value) pair being the (lower case,upper case) versions of a letter, respectively.\n",
    "\n",
    "\n",
    "def mapping(lst):\n",
    "    return {v.lower():v.upper() for v in lst}\n",
    "mapping(['a','s'])"
   ]
  },
  {
   "cell_type": "code",
   "execution_count": 9,
   "id": "108c8fa3",
   "metadata": {},
   "outputs": [
    {
     "data": {
      "text/plain": [
       "'Mongo ond wotormolon'"
      ]
     },
     "execution_count": 9,
     "metadata": {},
     "output_type": "execute_result"
    }
   ],
   "source": [
    "# 4 Write a function, that replaces all vowels in a string with a specified vowel.\n",
    "\n",
    "def vow_replace(st,re):\n",
    "    try:\n",
    "        vo = ['a','e','i','o','u']\n",
    "        return ''.join([re if i in vo else i for i in st])\n",
    "    except Exception as e:\n",
    "        print(e)\n",
    "vow_replace('Mango and watermelon', 'o')"
   ]
  },
  {
   "cell_type": "code",
   "execution_count": 11,
   "id": "67ff65b6",
   "metadata": {},
   "outputs": [
    {
     "data": {
      "text/plain": [
       "'oH wHaT a BeaTiFuL moRNiNg'"
      ]
     },
     "execution_count": 11,
     "metadata": {},
     "output_type": "execute_result"
    }
   ],
   "source": [
    "# Q5 Create a function that takes a string as input and capitalizes a letter if its ASCII code is evenand returns its lower case version if its ASCII code is odd.\n",
    "def ascii_capitalize(s):\n",
    "    s1 = []\n",
    "    for i in range(len(s)):\n",
    "        if ord(s[i]) % 2 == 0:\n",
    "            s1.append(s[i].upper())\n",
    "        else:\n",
    "            s1.append(s[i].lower())\n",
    "\n",
    "    return \"\".join((s1))\n",
    "ascii_capitalize('Oh what a beatiful morning')"
   ]
  },
  {
   "cell_type": "code",
   "execution_count": 12,
   "id": "9e459fdf",
   "metadata": {},
   "outputs": [
    {
     "name": "stdout",
     "output_type": "stream",
     "text": [
      "ENTER THE NUMBER  12\n",
      "NUMBER IS EVEN\n"
     ]
    }
   ],
   "source": [
    "#Section B\n",
    "#Write a Python Program to Check if a Number is Odd or Even?\n",
    "\n",
    "def check(NUM):\n",
    "    if (NUM%2)==0:\n",
    "        print (\"NUMBER IS EVEN\")\n",
    "    else:\n",
    "        print(\"NUMBER IS ODD\")\n",
    "X=int(input(\"ENTER THE NUMBER  \"))\n",
    "Y=check(X)"
   ]
  },
  {
   "cell_type": "code",
   "execution_count": 13,
   "id": "c9c61397",
   "metadata": {},
   "outputs": [
    {
     "name": "stdout",
     "output_type": "stream",
     "text": [
      "enter the number:2011\n"
     ]
    },
    {
     "data": {
      "text/plain": [
       "'The year is not a leap year'"
      ]
     },
     "execution_count": 13,
     "metadata": {},
     "output_type": "execute_result"
    }
   ],
   "source": [
    "#Write a Python Program to Check Leap Year?\n",
    "\n",
    "num=int(input(\"enter the number:\"))  \n",
    "def chk_leap(num):\n",
    "    if num%4==0 and num%100!=0 or num%400==0:\n",
    "        return 'The year is leap year'\n",
    "    else:\n",
    "        return 'The year is not a leap year'\n",
    "chk_leap(num)    "
   ]
  },
  {
   "cell_type": "code",
   "execution_count": 14,
   "id": "4ef4476c",
   "metadata": {},
   "outputs": [
    {
     "name": "stdout",
     "output_type": "stream",
     "text": [
      "True\n"
     ]
    }
   ],
   "source": [
    "#Write a Python Program to check if given array is Monotonic?\n",
    "# Check if given array is Monotonic\n",
    "def isMonotonic(A):\n",
    "    x, y = [], []\n",
    "    x.extend(A)\n",
    "    y.extend(A)\n",
    "    x.sort()\n",
    "    y.sort(reverse=True)\n",
    "    if(x == A or y == A):\n",
    "        return True\n",
    "    return False\n",
    " \n",
    " \n",
    "# Driver program\n",
    "A = [2, 2, 4, 4]\n",
    " \n",
    "# Print required result\n",
    "print(isMonotonic(A))"
   ]
  },
  {
   "cell_type": "code",
   "execution_count": 16,
   "id": "600d3583",
   "metadata": {},
   "outputs": [
    {
     "name": "stdout",
     "output_type": "stream",
     "text": [
      "400 500 49 200 100 300 "
     ]
    }
   ],
   "source": [
    "#Write a Python Program to Split the array and add the first part to the end?# Python program to split array and move first part to end.\n",
    " \n",
    "def splitArr(arr, n, k):\n",
    "    for i in range(0, k):\n",
    "        x = arr[0]\n",
    "        for j in range(0, n-1):\n",
    "            arr[j] = arr[j + 1]\n",
    "         \n",
    "        arr[n-1] = x\n",
    "         \n",
    " \n",
    "#main\n",
    "arr = [200, 100, 300, 400, 500, 49]\n",
    "n = len(arr)\n",
    "position = 3\n",
    " \n",
    "splitArr(arr, n, position)\n",
    " \n",
    "for i in range(0, n):\n",
    "    print(arr[i],end=' ')"
   ]
  },
  {
   "cell_type": "code",
   "execution_count": 18,
   "id": "0f5c41aa",
   "metadata": {},
   "outputs": [
    {
     "name": "stdout",
     "output_type": "stream",
     "text": [
      "The list is: [2, 4, 3, 6, 8, 10, 12]\n",
      "The product is: \n",
      "138240\n"
     ]
    }
   ],
   "source": [
    "#Python program to find sum of elements in list\n",
    "\n",
    "import numpy\n",
    "def multiply_numbers(list):\n",
    "   return numpy.prod(list)\n",
    "given_list = [2,4,3,6,8,10,12]\n",
    "print('The list is:',given_list)\n",
    "print(\"The product is: \")\n",
    "print(multiply_numbers(given_list))"
   ]
  },
  {
   "cell_type": "code",
   "execution_count": 19,
   "id": "4f5e7677",
   "metadata": {},
   "outputs": [
    {
     "data": {
      "text/plain": [
       "[1, 2, 3, 40, 5, 6, 7, 80, 9, 10]"
      ]
     },
     "execution_count": 19,
     "metadata": {},
     "output_type": "execute_result"
    }
   ],
   "source": [
    "#Section C\n",
    "#Question1\n",
    "#1. If the number can be divided evenly by 4, amplify it by 10\n",
    "#2. If the number cannot be divided evenly by 4, simply return the number.\n",
    "\n",
    "def amplify(n):\n",
    "    return [i*10 if i % 4 == 0 else i for i in range(1,n+1) ]\n",
    "amplify(10)"
   ]
  },
  {
   "cell_type": "code",
   "execution_count": 21,
   "id": "b757f1b1",
   "metadata": {},
   "outputs": [
    {
     "data": {
      "text/plain": [
       "0"
      ]
     },
     "execution_count": 21,
     "metadata": {},
     "output_type": "execute_result"
    }
   ],
   "source": [
    "#Question2\n",
    "#Create a function that takes a list of numbers and return the number that's unique\n",
    "\n",
    "def unique(lst):\n",
    "    s = list(set(lst))# give us unique value\n",
    "    for i in s:\n",
    "        if lst.count(i) == 1:\n",
    "            return i\n",
    "unique([0, 1, 1, 1, 1, 1, 1, 1, 1])"
   ]
  },
  {
   "cell_type": "code",
   "execution_count": 24,
   "id": "5a19a7e1",
   "metadata": {},
   "outputs": [
    {
     "data": {
      "text/plain": [
       "314"
      ]
     },
     "execution_count": 24,
     "metadata": {},
     "output_type": "execute_result"
    }
   ],
   "source": [
    "class Circle():\n",
    "    def __init__(self, r):\n",
    "        self.radius = r\n",
    "\n",
    "    def getArea(self):\n",
    "        return round(self.radius**2*3.14)\n",
    "    \n",
    "    def getPerimeter(self):\n",
    "        return round(2*self.radius*3.14)\n",
    "circy = Circle(10)\n",
    "circy.getArea()\n",
    "\n"
   ]
  },
  {
   "cell_type": "code",
   "execution_count": 25,
   "id": "12a8e893",
   "metadata": {},
   "outputs": [
    {
     "data": {
      "text/plain": [
       "63"
      ]
     },
     "execution_count": 25,
     "metadata": {},
     "output_type": "execute_result"
    }
   ],
   "source": [
    "circy.getPerimeter()"
   ]
  },
  {
   "cell_type": "code",
   "execution_count": 31,
   "id": "3bed858b",
   "metadata": {},
   "outputs": [
    {
     "data": {
      "text/plain": [
       "['Apple', 'Samsung', 'Microsoft']"
      ]
     },
     "execution_count": 31,
     "metadata": {},
     "output_type": "execute_result"
    }
   ],
   "source": [
    "#Question4\n",
    "#Create a function that takes a list of strings and return a list, sorted from shortest to longest.\n",
    "\n",
    "def sort_by_length(lst):\n",
    "    return sorted(lst, key = len)\n",
    "sort_by_length(['Samsung', 'Apple', 'Microsoft'])"
   ]
  },
  {
   "cell_type": "code",
   "execution_count": 33,
   "id": "30623e9a",
   "metadata": {},
   "outputs": [
    {
     "name": "stdout",
     "output_type": "stream",
     "text": [
      "Triplets\n"
     ]
    },
    {
     "data": {
      "text/plain": [
       "True"
      ]
     },
     "execution_count": 33,
     "metadata": {},
     "output_type": "execute_result"
    }
   ],
   "source": [
    "#Question5\n",
    "#Create a function that validates whether three given integers form a Pythagorean triplet\n",
    "\n",
    "def is_triplet(a,b,c):\n",
    "    lst = []\n",
    "    lst.extend((a,b,c))\n",
    "    lst = sorted(lst)\n",
    "\n",
    "    if lst[0]**2 + lst[1]**2 == lst[2]**2:\n",
    "        print('Triplets')\n",
    "        return True\n",
    "    else:\n",
    "        print(\"not triplet\")\n",
    "        return False\n",
    "is_triplet(3, 4, 5)"
   ]
  },
  {
   "cell_type": "code",
   "execution_count": null,
   "id": "ea95b7da",
   "metadata": {},
   "outputs": [],
   "source": []
  }
 ],
 "metadata": {
  "kernelspec": {
   "display_name": "Python 3 (ipykernel)",
   "language": "python",
   "name": "python3"
  },
  "language_info": {
   "codemirror_mode": {
    "name": "ipython",
    "version": 3
   },
   "file_extension": ".py",
   "mimetype": "text/x-python",
   "name": "python",
   "nbconvert_exporter": "python",
   "pygments_lexer": "ipython3",
   "version": "3.9.13"
  }
 },
 "nbformat": 4,
 "nbformat_minor": 5
}
